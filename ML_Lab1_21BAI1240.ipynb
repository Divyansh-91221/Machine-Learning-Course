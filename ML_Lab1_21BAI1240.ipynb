{
  "cells": [
    {
      "cell_type": "markdown",
      "metadata": {
        "id": "viHOnq3EDKsn"
      },
      "source": [
        "# Machine Learning Lab1"
      ]
    },
    {
      "cell_type": "markdown",
      "metadata": {
        "id": "QYigcLH0DKsq"
      },
      "source": [
        "# Divyansh 21BAI1240\n"
      ]
    },
    {
      "cell_type": "markdown",
      "metadata": {
        "id": "yaHTUOW-DKsq"
      },
      "source": [
        "##### Importing Required Libraries:"
      ]
    },
    {
      "cell_type": "code",
      "execution_count": 3,
      "metadata": {
        "id": "XHP9COnUDKsr"
      },
      "outputs": [],
      "source": [
        "import numpy as np"
      ]
    },
    {
      "cell_type": "markdown",
      "metadata": {
        "id": "d61khIb1DKss"
      },
      "source": [
        "### 1.\tHow to create an empty and a full NumPy array?"
      ]
    },
    {
      "cell_type": "code",
      "execution_count": null,
      "metadata": {
        "id": "0e76O_BnDKss",
        "outputId": "6f4aa2b3-0dfb-4f36-fc63-075803bb8bc3"
      },
      "outputs": [
        {
          "name": "stdout",
          "output_type": "stream",
          "text": [
            "Empty Array\n",
            "[[0 0 0 0]\n",
            " [0 0 0 0]\n",
            " [0 0 0 0]]\n",
            "\n",
            " Full Array\n",
            "[[64 64 64]\n",
            " [64 64 64]\n",
            " [64 64 64]]\n"
          ]
        }
      ],
      "source": [
        "# Create an empty array\n",
        "empa = np.empty((3, 4), dtype=int)\n",
        "print(\"Empty Array\")\n",
        "print(empa)\n",
        "  \n",
        "# Create a full array\n",
        "flla = np.full([3, 3], 64, dtype=int)\n",
        "print(\"\\n Full Array\")\n",
        "print(flla)"
      ]
    },
    {
      "cell_type": "markdown",
      "metadata": {
        "id": "NqAdgAtCDKst"
      },
      "source": [
        "### 2.\tCreate a Numpy array filled with all zeros"
      ]
    },
    {
      "cell_type": "code",
      "execution_count": 4,
      "metadata": {
        "colab": {
          "base_uri": "https://localhost:8080/"
        },
        "id": "wt8EolMKDKst",
        "outputId": "9098e96f-6827-4ca1-a019-094e0a4e9253"
      },
      "outputs": [
        {
          "output_type": "stream",
          "name": "stdout",
          "text": [
            "[0 0 0 0 0 0]\n"
          ]
        }
      ],
      "source": [
        "zeros_arr = np.zeros(6,int)\n",
        "print(zeros_arr)"
      ]
    },
    {
      "cell_type": "markdown",
      "metadata": {
        "id": "Rr1V5YCjDKsu"
      },
      "source": [
        "### 3.\tCreate a Numpy array filled with all ones"
      ]
    },
    {
      "cell_type": "code",
      "execution_count": 5,
      "metadata": {
        "id": "EMa4cZOQDKsu",
        "outputId": "676d37ea-39d1-44b6-845d-f0c0c1d1f7be",
        "colab": {
          "base_uri": "https://localhost:8080/"
        }
      },
      "outputs": [
        {
          "output_type": "stream",
          "name": "stdout",
          "text": [
            "[1 1 1 1 1 1]\n"
          ]
        }
      ],
      "source": [
        "ones_arr = np.ones(6,int)\n",
        "print(ones_arr)"
      ]
    },
    {
      "cell_type": "markdown",
      "metadata": {
        "id": "972JfNB8DKsu"
      },
      "source": [
        "### 4.\tCheck whether a Numpy array contains a specified row"
      ]
    },
    {
      "cell_type": "code",
      "execution_count": 6,
      "metadata": {
        "id": "_7VWkB62DKsu",
        "outputId": "9356220f-2407-4e06-8d0d-fc75184abca7",
        "colab": {
          "base_uri": "https://localhost:8080/"
        }
      },
      "outputs": [
        {
          "output_type": "stream",
          "name": "stdout",
          "text": [
            "The row is present in the array\n"
          ]
        }
      ],
      "source": [
        "arr = np.array([[1, 2, 3], [4, 5, 6], [7, 8, 9]])\n",
        "row_to_find = [4, 5, 6]\n",
        "\n",
        "if np.any(np.all(arr == row_to_find, axis=1)):\n",
        "    print(\"The row is present in the array\")\n",
        "else:\n",
        "    print(\"The row is not present in the array\")"
      ]
    },
    {
      "cell_type": "markdown",
      "metadata": {
        "id": "UvAJpKCqDKsv"
      },
      "source": [
        "### 5.\tHow to Remove rows in Numpy array that contains non-numeric values?"
      ]
    },
    {
      "cell_type": "code",
      "execution_count": null,
      "metadata": {
        "id": "hgkTJfR3DKsv",
        "outputId": "44af0d7a-b406-4647-8485-b102052d9bad"
      },
      "outputs": [
        {
          "name": "stdout",
          "output_type": "stream",
          "text": [
            "[[ 1.  2.  3.]\n",
            " [ 7.  8.  9.]]\n"
          ]
        }
      ],
      "source": [
        "arr = np.array([[1, 2, 3],\n",
        "                [4, np.nan, 6],\n",
        "                [7, 8, 9],\n",
        "                [10, np.nan, np.nan]])\n",
        "\n",
        "nan_rows = np.isnan(arr).any(axis=1)\n",
        "clean_arr = arr[~nan_rows]\n",
        "print(clean_arr)\n"
      ]
    },
    {
      "cell_type": "markdown",
      "metadata": {
        "id": "-VhfdhMJDKsv"
      },
      "source": [
        "### 6.\tRemove single-dimensional entries from the shape of an array"
      ]
    },
    {
      "cell_type": "code",
      "execution_count": null,
      "metadata": {
        "id": "3ZibYbQjDKsw",
        "outputId": "1b1e0642-98fc-48c3-a552-66befd911284"
      },
      "outputs": [
        {
          "name": "stdout",
          "output_type": "stream",
          "text": [
            "Original shape: (2, 1, 3)\n",
            "Squeezed shape: (2, 3)\n"
          ]
        }
      ],
      "source": [
        "arr = np.array([[[1, 2, 3]],\n",
        "                [[4, 5, 6]]])\n",
        "\n",
        "print(\"Original shape:\", arr.shape)\n",
        "squeezed_arr = np.squeeze(arr)\n",
        "print(\"Squeezed shape:\", squeezed_arr.shape)"
      ]
    },
    {
      "cell_type": "markdown",
      "metadata": {
        "id": "p2MULdMKDKsw"
      },
      "source": [
        "### 7.\tFind the number of occurrences of a sequence in a NumPy array"
      ]
    },
    {
      "cell_type": "code",
      "execution_count": null,
      "metadata": {
        "id": "AsdHXvzeDKsw",
        "outputId": "23b5e304-2394-4960-a58a-b481e11e162e"
      },
      "outputs": [
        {
          "name": "stdout",
          "output_type": "stream",
          "text": [
            "3\n"
          ]
        }
      ],
      "source": [
        "arr = np.array([1, 2, 3, 4, 5, 1, 2, 3, 4, 5, 1, 2, 3])\n",
        "seq = \"1, 2, 3\"\n",
        "output = repr(arr).count(str(seq))\n",
        "print(output)"
      ]
    },
    {
      "cell_type": "markdown",
      "metadata": {
        "id": "_inHGywpDKsx"
      },
      "source": [
        "### 8.\tFind the most frequent value in a NumPy array"
      ]
    },
    {
      "cell_type": "code",
      "execution_count": null,
      "metadata": {
        "id": "INkdBbk-DKsx",
        "outputId": "6cc1a296-b77d-40cf-b3e0-15e389433ef1"
      },
      "outputs": [
        {
          "name": "stdout",
          "output_type": "stream",
          "text": [
            "Most frequent value: 1\n"
          ]
        }
      ],
      "source": [
        "arr = np.array([1, 2, 3, 4, 5, 1, 2, 3, 1, 1])\n",
        "counts = np.bincount(arr.astype('int64'))\n",
        "most_frequent_value = np.argmax(counts)\n",
        "print(\"Most frequent value:\", most_frequent_value)"
      ]
    },
    {
      "cell_type": "markdown",
      "metadata": {
        "id": "1bavjVbODKsx"
      },
      "source": [
        "### 9.\tCombining a one and a two-dimensional NumPy Array"
      ]
    },
    {
      "cell_type": "code",
      "execution_count": null,
      "metadata": {
        "id": "JPJjOsrfDKsy",
        "outputId": "b20efbb8-a3e7-4af9-e6b1-6815847898e5"
      },
      "outputs": [
        {
          "name": "stdout",
          "output_type": "stream",
          "text": [
            "One dimensional array:\n",
            "[0 1 2 3]\n",
            "Two dimensional array:\n",
            "[[0 1 2 3]\n",
            " [4 5 6 7]]\n",
            "0:0\n",
            "1:1\n",
            "2:2\n",
            "3:3\n",
            "0:4\n",
            "1:5\n",
            "2:6\n",
            "3:7\n"
          ]
        }
      ],
      "source": [
        "x = np.arange(4)\n",
        "print(\"One dimensional array:\")\n",
        "print(x)\n",
        "y = np.arange(8).reshape(2,4)\n",
        "print(\"Two dimensional array:\")\n",
        "print(y)\n",
        "for a, b in np.nditer([x,y]):\n",
        "    print(\"%d:%d\" % (a,b),)"
      ]
    },
    {
      "cell_type": "markdown",
      "metadata": {
        "id": "QleZExDYDKsy"
      },
      "source": [
        "### 10.\tHow to build an array of all combinations of two NumPy arrays?"
      ]
    },
    {
      "cell_type": "code",
      "execution_count": null,
      "metadata": {
        "id": "cTCUnED3DKsz",
        "outputId": "67557cf2-27ac-47f6-f56c-71bff2020806"
      },
      "outputs": [
        {
          "name": "stdout",
          "output_type": "stream",
          "text": [
            "Array-1\n",
            "[1 2]\n",
            "\n",
            "Array-2\n",
            "[4 6]\n",
            "\n",
            "Combine array:\n",
            "[[1 4]\n",
            " [1 6]\n",
            " [2 4]\n",
            " [2 6]]\n"
          ]
        }
      ],
      "source": [
        "array_1 = np.array([1, 2])\n",
        "array_2 = np.array([4, 6])\n",
        "print(\"Array-1\")\n",
        "print(array_1)\n",
        "print(\"\\nArray-2\")\n",
        "print(array_2)\n",
        "comb_array = np.array(np.meshgrid(array_1, array_2)).T.reshape(-1, 2)\n",
        "print(\"\\nCombine array:\")\n",
        "print(comb_array)"
      ]
    }
  ],
  "metadata": {
    "kernelspec": {
      "display_name": "Python 3 (ipykernel)",
      "language": "python",
      "name": "python3"
    },
    "language_info": {
      "codemirror_mode": {
        "name": "ipython",
        "version": 3
      },
      "file_extension": ".py",
      "mimetype": "text/x-python",
      "name": "python",
      "nbconvert_exporter": "python",
      "pygments_lexer": "ipython3",
      "version": "3.9.13"
    },
    "colab": {
      "provenance": []
    }
  },
  "nbformat": 4,
  "nbformat_minor": 0
}